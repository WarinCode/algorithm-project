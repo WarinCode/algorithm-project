{
 "cells": [
  {
   "cell_type": "markdown",
   "metadata": {},
   "source": [
    "# Deep First Search Algorithm\n",
    "\n",
    "---\n"
   ]
  },
  {
   "cell_type": "markdown",
   "metadata": {},
   "source": [
    "##### กำหนดปัญหา\n",
    "- สมมุติว่าเราต้องการวางแผนการเดินทางไปยังหลายจุดหมายที่แตกต่างกัน ซึ่งสถานที่ต่างๆ เหล่านี้มีเส้นทางเชื่อมต่อกัน อาจจะมีการเลือกเส้นทางที่ต้องเดินทางไปเยี่ยมชมหลายแห่งในแต่ละครั้ง ทั้งที่บางเส้นทางอาจยาวและบางเส้นทางอาจสั้นกว่า\n",
    "ในสถานการณ์เช่นนี้ เราต้องการหาวิธีการเลือกเส้นทางที่ สามารถเดินไปลึกสุด ก่อน (คือไปถึงจุดหมายที่เราตั้งใจจะไปให้เร็วที่สุดในเส้นทางนั้น) แล้วค่อยย้อนกลับมาและลองเส้นทางอื่นหากเส้นทางแรกไม่สำเร็จหรือถึงทางตัน ซึ่งตรงกับแนวคิดการใช้ DFS (Depth-First Search) ในการค้นหาผลลัพธ์ โดยเลือกเดินทางไปในเส้นทางที่ลึกที่สุดก่อนเสมอ\n",
    "\n",
    "\n",
    "##### แก้ไขปัญหา\n",
    "- การใช้ DFS (Depth-First Search) ในการแก้ปัญหาการวางแผนเที่ยวหลายสถานที่แบบลึกก่อน สามารถอธิบายได้ว่ามันเป็นการสำรวจเส้นทางจากจุดเริ่มต้นไปยังจุดหมาย โดยเลือกเส้นทางที่ลึกที่สุดก่อนและพยายามเดินทางไปให้สุดทางจนไม่สามารถไปต่อได้ จากนั้นหากพบทางตันจะย้อนกลับไปยังจุดที่เคยไปแล้วเพื่อสำรวจเส้นทางอื่น ๆ ที่ยังไม่เคยไป จนกว่าจะพบเส้นทางที่สามารถไปถึงจุดหมายได้หรือไม่สามารถหาทางไปได้เลย"
   ]
  },
  {
   "cell_type": "markdown",
   "metadata": {},
   "source": [
    "## graph.py\n"
   ]
  },
  {
   "cell_type": "code",
   "execution_count": 1,
   "metadata": {},
   "outputs": [],
   "source": [
    "# เส้นทางของ graph\n",
    "# key คือ vertex\n",
    "# value คือ vertex ที่เชื่อมต่อกันด้วยเส้น edge กับ vertex ของ key (neighbor)\n",
    "\n",
    "# ทุก graphs ที่อยู่ใน module นี้เป็น Undirected Graphs ทั้งหมด\n",
    "# กราฟอันที่ 1\n",
    "graph = {\n",
    "    \"A\": [\"B\", \"C\"],\n",
    "    \"B\": [\"A\", \"D\"],\n",
    "    \"C\": [\"A\", \"D\"],\n",
    "    \"D\": [\"B\", \"C\", \"E\"],\n",
    "    \"E\": [\"D\"],\n",
    "}\n",
    "\n",
    "# กราฟอันที่ 2\n",
    "graph2 = {\n",
    "    \"A\": [\"B\", \"G\"],\n",
    "    \"B\": [\"A\", \"G\", \"C\"],\n",
    "    \"C\": [\"B\", \"E\"],\n",
    "    \"E\": [\"C\", \"G\", \"J\", \"K\"],\n",
    "    \"G\": [\"B\", \"E\", \"J\"],\n",
    "    \"J\": [\"G\", \"E\", \"D\", \"F\"],\n",
    "    \"D\": [\"J\", \"F\", \"K\"],\n",
    "    \"F\": [\"J\", \"D\", \"K\"],\n",
    "    \"K\": [\"E\", \"D\", \"F\"],\n",
    "}\n",
    "\n",
    "# กราฟอันที่ 3 \n",
    "# เป็นกราฟแบบ tree\n",
    "graph3 = {\n",
    "    \"A\": [\"B\", \"C\"],\n",
    "    \"B\": [\"A\", \"D\", \"E\"],\n",
    "    \"D\": [\"B\", \"H\", \"I\"],\n",
    "    \"H\": [\"D\"],\n",
    "    \"I\": [\"D\"],\n",
    "    \"E\": [\"B\"],\n",
    "    \"C\": [\"F\", \"G\"],\n",
    "    \"F\": [\"C\"],\n",
    "    \"G\": [\"J\", \"C\"],\n",
    "    \"J\": [\"K\", \"G\"],\n",
    "    \"K\": [\"J\"],\n",
    "}\n",
    "\n",
    "# รวมกราฟทั้งหมด\n",
    "all_graphs = {\"graph1\": graph, \"graph2\": graph2, \"graph3\": graph3}"
   ]
  },
  {
   "cell_type": "markdown",
   "metadata": {},
   "source": [
    "<p align=\"center\">ภาพกราฟอันที่ 1</p>\n",
    "\n",
    "<div align=\"center\">\n",
    "    <img src=\"https://raw.githubusercontent.com/WarinCode/algorithm-project/refs/heads/main/imgs/graph.png\">\n",
    "</div>\n",
    "\n",
    "<br>"
   ]
  },
  {
   "cell_type": "markdown",
   "metadata": {},
   "source": [
    "<p align=\"center\">ภาพกราฟอันที่ 2</p>\n",
    "\n",
    "<div align=\"center\">\n",
    "    <img src=\"https://raw.githubusercontent.com/WarinCode/algorithm-project/refs/heads/main/imgs/graph2.png\">\n",
    "</div>\n",
    "\n",
    "<br>"
   ]
  },
  {
   "cell_type": "markdown",
   "metadata": {},
   "source": [
    "<p align=\"center\">ภาพกราฟอันที่ 3</p>\n",
    "\n",
    "<div align=\"center\">\n",
    "    <img src=\"https://raw.githubusercontent.com/WarinCode/algorithm-project/refs/heads/main/imgs/graph3.png\">\n",
    "</div>"
   ]
  },
  {
   "cell_type": "markdown",
   "metadata": {},
   "source": [
    "## main.py\n"
   ]
  },
  {
   "cell_type": "code",
   "execution_count": 2,
   "metadata": {},
   "outputs": [],
   "source": [
    "# function สำหรับการเช็ค vertices ใน graph ว่าถ้ามีจะ return True ไม่มีจะ return False\n",
    "def has_vertices(graph, start, goal):\n",
    "    # เก็บเป็น set เพื่อให้ไม่มี vertices ที่มีค่าซ้ำกัน\n",
    "    vertices = set()\n",
    "\n",
    "    # วนลูปรอบแรกของ graph ให้ดึง key และ value ใน dict ออกมา\n",
    "    for key, values in graph.items():\n",
    "        # เพิ่มค่า key ลงใน all_vertices\n",
    "        vertices.add(key)\n",
    "        # วนลูปรอบที่สองของ values เพราะ value ที่ได้มาตอนแรกใน dict เป็น list\n",
    "        # ต้องวน loop อีกรอบเพื่อได้ค่า element\n",
    "        for value in values:\n",
    "            # เพิ่มค่า value\n",
    "            vertices.add(value)\n",
    "\n",
    "    # เขียน condition return ออกมาว่าถ้า start และ goal อยู่ใน all_vertices\n",
    "    # ให้ return True ไม่อยู่ให้ return False\n",
    "    return start in vertices and goal in vertices"
   ]
  },
  {
   "cell_type": "code",
   "execution_count": 3,
   "metadata": {},
   "outputs": [],
   "source": [
    "# Algorithm: Deep-Firth-Search\n",
    "def dfs(graph, start, goal, path=None):\n",
    "    # เช็คว่าถ้าค่า path เป็น None ให้ทำเงื่อนไขต่อไปนี้ (สำหรับรัน algorithm นี้ในครั้งแรก)\n",
    "    if path is None:\n",
    "        # กำหนดค่า path ให้เป็น list\n",
    "        path = []\n",
    "        # เช็ค condition นี้ว่าถ้า vertices ที่รับค่ามาจาก paramters ไม่มีอยู่ใน graph ให้ throw exception นี้ออกไป\n",
    "        if not has_vertices(graph, start, goal):\n",
    "            raise Exception(f\"ไม่มี vertices {start} หรือ {goal} ที่อยู่ใน graph!\")\n",
    "        \n",
    "    # เพิ่มค่า start ลงใน path\n",
    "    path.append(start)\n",
    "\n",
    "    # ถ้าพบเส้นทางเป้าหมายแล้วให้ return ค่า path ออกมา\n",
    "    if start == goal:\n",
    "        return path\n",
    "\n",
    "    # วน loop หาเส้นทางของ goal เมื่อวน loop ค่าของตัวแปร neighbor จะเป็นค่า value ของ dict\n",
    "    for neighbor in graph[start]:\n",
    "        # ถ้าค่า neighbor ไม่อยู่ใน path ให้เรียกใช้ dfs ตัวมันเองอีกครั้ง(recursive)\n",
    "        # และ หลีกเลี่ยงปัญหาเกิดการเก็บค่าเดิมของ path ที่เราเคยเดินมาแล้ว\n",
    "        if neighbor not in path:\n",
    "            # ส่ง arguments ไปใหม่เปลี่ยนจาก start -> neightbor ที่เหลือเหมือนเดิม\n",
    "            result = dfs(graph, neighbor, goal, path.copy())\n",
    "            # เช็คถ้ามีผลลัพธ์(มี elemnet ใน list) ให้ return ผลลัพธ์นั้นออกมา\n",
    "            if result:\n",
    "                return result  # Return the first found path"
   ]
  },
  {
   "cell_type": "code",
   "execution_count": 4,
   "metadata": {},
   "outputs": [
    {
     "name": "stdout",
     "output_type": "stream",
     "text": [
      "เส้นทางจาก A ไปยัง I คือ\n",
      "A -> B -> D -> I\n"
     ]
    }
   ],
   "source": [
    "# กำหนดค่า start และ goal\n",
    "# start คือจุดเริ่มต้นใน graph\n",
    "\n",
    "# สำหรับรับค่าข้อมูลผ่าน console\n",
    "# start = input(\"start : \").upper().strip()\n",
    "# goal = input(\"goal : \").upper().strip()\n",
    "\n",
    "# สำหรับกำหนดค่าแบบปกติ\n",
    "start = \"A\"\n",
    "# goal คือจุดเป้าหมายที่ต้องไปให้ถึงใน graph\n",
    "goal = \"I\"\n",
    "\n",
    "# เขียน try catch เพื่อดักจับอาจจะมีการเกิด exception จาก dfs นี้ไว้\n",
    "try:\n",
    "    # เรียกใช้ algorithm: dfs เพื่อหาเส้นทาง\n",
    "    path = dfs(all_graphs[\"graph3\"], start, goal)\n",
    "    # แสดงผลลัพธ์\n",
    "    print(f\"เส้นทางจาก {start} ไปยัง {goal} คือ\")\n",
    "    print(\" -> \".join(path))\n",
    "except Exception as e:\n",
    "    # แสดงข้อความของ exception\n",
    "    print(e.__str__())"
   ]
  }
 ],
 "metadata": {
  "kernelspec": {
   "display_name": "Python 3",
   "language": "python",
   "name": "python3"
  },
  "language_info": {
   "codemirror_mode": {
    "name": "ipython",
    "version": 3
   },
   "file_extension": ".py",
   "mimetype": "text/x-python",
   "name": "python",
   "nbconvert_exporter": "python",
   "pygments_lexer": "ipython3",
   "version": "3.12.3"
  }
 },
 "nbformat": 4,
 "nbformat_minor": 2
}
